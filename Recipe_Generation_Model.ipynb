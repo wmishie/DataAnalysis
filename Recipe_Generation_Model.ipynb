{
  "cells": [
    {
      "cell_type": "markdown",
      "metadata": {
        "id": "view-in-github",
        "colab_type": "text"
      },
      "source": [
        "<a href=\"https://colab.research.google.com/github/wmishie/DataAnalysis/blob/main/Recipe_Generation_Model.ipynb\" target=\"_parent\"><img src=\"https://colab.research.google.com/assets/colab-badge.svg\" alt=\"Open In Colab\"/></a>"
      ]
    },
    {
      "cell_type": "code",
      "execution_count": null,
      "metadata": {
        "id": "TTaGMI_V5elg"
      },
      "outputs": [],
      "source": [
        "import tensorflow as tf\n",
        "from tensorflow.keras.models import Sequential\n",
        "from tensorflow.keras.layers import Embedding, LSTM, Dense, Bidirectional\n",
        "from tensorflow.keras.preprocessing.text import Tokenizer\n",
        "from tensorflow.keras.preprocessing.sequence import pad_sequences\n",
        "import numpy as np\n"
      ]
    },
    {
      "cell_type": "code",
      "execution_count": null,
      "metadata": {
        "colab": {
          "base_uri": "https://localhost:8080/"
        },
        "id": "GxSyfcqk5si_",
        "outputId": "15f83a8a-a894-44ac-b957-7547f795bc02"
      },
      "outputs": [
        {
          "name": "stdout",
          "output_type": "stream",
          "text": [
            "Drive already mounted at /content/drive; to attempt to forcibly remount, call drive.mount(\"/content/drive\", force_remount=True).\n"
          ]
        }
      ],
      "source": [
        "from google.colab import drive\n",
        "drive.mount('/content/drive')"
      ]
    },
    {
      "cell_type": "code",
      "execution_count": null,
      "metadata": {
        "id": "eVNwBi6w6Dtw"
      },
      "outputs": [],
      "source": [
        "import pandas as pd\n",
        "recipes=pd.read_csv('/content/drive/MyDrive/cleaned.csv')"
      ]
    },
    {
      "cell_type": "code",
      "execution_count": null,
      "metadata": {
        "id": "mAZh0Fy56ZDR"
      },
      "outputs": [],
      "source": [
        "recipes.dropna(inplace=True)"
      ]
    },
    {
      "cell_type": "code",
      "execution_count": null,
      "metadata": {
        "colab": {
          "base_uri": "https://localhost:8080/"
        },
        "id": "mCrcsOiZ6b2p",
        "outputId": "bcf3672c-2ae0-4e50-8979-d8ac0edaddc3"
      },
      "outputs": [
        {
          "data": {
            "text/plain": [
              "Index(['Foods', 'Recipes', 'Instructions'], dtype='object')"
            ]
          },
          "execution_count": 33,
          "metadata": {},
          "output_type": "execute_result"
        }
      ],
      "source": [
        "recipes.columns"
      ]
    },
    {
      "cell_type": "code",
      "execution_count": null,
      "metadata": {
        "colab": {
          "base_uri": "https://localhost:8080/",
          "height": 293
        },
        "id": "pcwcBjML6irI",
        "outputId": "9eb141c6-6adb-4222-9bb3-75a5b93c596a"
      },
      "outputs": [
        {
          "data": {
            "application/vnd.google.colaboratory.intrinsic+json": {
              "summary": "{\n  \"name\": \"recipes\",\n  \"rows\": 39522,\n  \"fields\": [\n    {\n      \"column\": \"Foods\",\n      \"properties\": {\n        \"dtype\": \"string\",\n        \"num_unique_values\": 39522,\n        \"samples\": [\n          \"Frozen Strawberry Smoothie Bars\",\n          \"Cranberry Oat Bars\",\n          \"Swedish Butter Crisps\"\n        ],\n        \"semantic_type\": \"\",\n        \"description\": \"\"\n      }\n    },\n    {\n      \"column\": \"Recipes\",\n      \"properties\": {\n        \"dtype\": \"string\",\n        \"num_unique_values\": 39493,\n        \"samples\": [\n          \"['2 cups white sugar ADVERTISEMENT', '1 cup shortening ADVERTISEMENT', '1 tablespoon vanilla extract ADVERTISEMENT', '1 teaspoon almond extract ADVERTISEMENT', '2 eggs ADVERTISEMENT', '6 cups all-purpose flour ADVERTISEMENT', '1 teaspoon baking soda ADVERTISEMENT', '1 teaspoon baking powder ADVERTISEMENT', '1 teaspoon salt ADVERTISEMENT', '1 cup milk ADVERTISEMENT', 'ADVERTISEMENT']\",\n          \"['1 1/2 pounds skinless, boneless chicken breast meat ADVERTISEMENT', '3/4 cup white sugar ADVERTISEMENT', '3/4 cup soy sauce ADVERTISEMENT', '3/4 cup mirin (Japanese sweet wine) ADVERTISEMENT', '2 tablespoons vegetable oil ADVERTISEMENT', '1 tablespoon grated fresh ginger ADVERTISEMENT', '3 carrots, julienned ADVERTISEMENT', '2 onions, thinly sliced ADVERTISEMENT', '1 (14 ounce) can shredded bamboo, drained ADVERTISEMENT', '1/2 pound fresh mushrooms, sliced ADVERTISEMENT', '1 cup trimmed and coarsely chopped watercress ADVERTISEMENT', '1 (8 ounce) package rice noodles, soaked and cut into 2 inch pieces ADVERTISEMENT', 'ADVERTISEMENT']\",\n          \"['1 teaspoon salt, divided ADVERTISEMENT', '1/2 teaspoon cumin ADVERTISEMENT', '1/4 teaspoon ground red pepper, or more to taste ADVERTISEMENT', '1 tablespoon olive oil ADVERTISEMENT', '4 (4 ounce) boneless skinless chicken breast halves ADVERTISEMENT', '1 fully ripened Avocado from Mexico, halved, pitted, peeled and cubed ADVERTISEMENT', '1 cup chopped tomato ADVERTISEMENT', '1/2 cup diced cucumber ADVERTISEMENT', '1/4 cup diced red onion ADVERTISEMENT', '1/4 cup chopped fresh cilantro ADVERTISEMENT', '2 tablespoons lime juice ADVERTISEMENT', 'ADVERTISEMENT']\"\n        ],\n        \"semantic_type\": \"\",\n        \"description\": \"\"\n      }\n    },\n    {\n      \"column\": \"Instructions\",\n      \"properties\": {\n        \"dtype\": \"string\",\n        \"num_unique_values\": 39442,\n        \"samples\": [\n          \"Rinse and pick through peas. Place them in a large pot with the celery, carrots, broth and water. Bring to a boil, then reduce heat, cover and simmer until peas have fallen apart, 1 to 2 hours. Season with salt and pepper before serving.\\n\",\n          \"Bring chicken stock to a boil in a saucepan. Add chicken breasts. Cook until chicken can be easily pulled apart with a fork, about 30 minutes. Drain and cool until easily handled. Shred using 2 forks.\\nPreheat oven to 375 degrees F (190 degrees C).\\nBring a large pot of lightly salted water to a boil. Cook manicotti in the boiling water, stirring occasionally, until still firm to the bite, about 7 minutes. Drain.\\nMix shredded chicken, 2 cups mozzarella cheese, cream cheese, mushrooms, green onions, and garlic together in a bowl. Pour in enough Alfredo sauce until filling has a thick and creamy consistency.\\nSpoon chicken filling into a piping bag, reserving about 1/2 cup of the filling in the bowl. Pipe filling into manicotti.\\nMix remaining Alfredo sauce with reserved chicken filling in the bowl.\\nArrange stuffed manicotti in a baking dish. Cover evenly with Alfredo sauce mixture until there are no dry spots. Sprinkle remaining 1 cup mozzarella cheese on top. Cover baking dish with aluminum foil.\\nBake in the preheated oven until cheese is melted and sauce is bubbling, about 50 minutes. Remove aluminum foil and continue baking until cheese starts to brown, about 10 minutes.\\n\",\n          \"Preheat the oven to 350 degrees F. Grease a 9x13 baking pan.\\nFor the crust, combine all crust ingredients in a mixing bowl and combine until crumbly and butter pieces are no longer visible. Press the mixture on bottom of prepared pan.\\nBake 10-12 minutes or until lightly browned.\\nFor the filling, in a large bowl, beat cream cheese until light and creamy.\\nAdd Marzetti Old Fashioned Caramel Dip and mix until smooth. On low speed, mix in flour; add egg and vanilla and mix just until blended. Pour cream cheese mixture over baked crust. Arrange apple slices and press them into top of cream cheese layer.\\nBake 20-25 minutes. Allow bars to cool to room temperature.\\nCover and chill until firm. Before serving, spread Marzetti Old Fashioned Caramel Dip over top of bars.\\nCut and serve. Store covered in the refrigerator.\\n\"\n        ],\n        \"semantic_type\": \"\",\n        \"description\": \"\"\n      }\n    }\n  ]\n}",
              "type": "dataframe",
              "variable_name": "recipes"
            },
            "text/html": [
              "\n",
              "  <div id=\"df-1e7630f5-6039-42c2-abe3-632c7fccb27e\" class=\"colab-df-container\">\n",
              "    <div>\n",
              "<style scoped>\n",
              "    .dataframe tbody tr th:only-of-type {\n",
              "        vertical-align: middle;\n",
              "    }\n",
              "\n",
              "    .dataframe tbody tr th {\n",
              "        vertical-align: top;\n",
              "    }\n",
              "\n",
              "    .dataframe thead th {\n",
              "        text-align: right;\n",
              "    }\n",
              "</style>\n",
              "<table border=\"1\" class=\"dataframe\">\n",
              "  <thead>\n",
              "    <tr style=\"text-align: right;\">\n",
              "      <th></th>\n",
              "      <th>Foods</th>\n",
              "      <th>Recipes</th>\n",
              "      <th>Instructions</th>\n",
              "    </tr>\n",
              "  </thead>\n",
              "  <tbody>\n",
              "    <tr>\n",
              "      <th>0</th>\n",
              "      <td>Slow Cooker Chicken and Dumplings</td>\n",
              "      <td>['4 skinless, boneless chicken breast halves A...</td>\n",
              "      <td>Place the chicken, butter, soup, and onion in ...</td>\n",
              "    </tr>\n",
              "    <tr>\n",
              "      <th>1</th>\n",
              "      <td>Awesome Slow Cooker Pot Roast</td>\n",
              "      <td>['2 (10.75 ounce) cans condensed cream of mush...</td>\n",
              "      <td>In a slow cooker, mix cream of mushroom soup, ...</td>\n",
              "    </tr>\n",
              "    <tr>\n",
              "      <th>2</th>\n",
              "      <td>Brown Sugar Meatloaf</td>\n",
              "      <td>['1/2 cup packed brown sugar ADVERTISEMENT', '...</td>\n",
              "      <td>Preheat oven to 350 degrees F (175 degrees C)....</td>\n",
              "    </tr>\n",
              "    <tr>\n",
              "      <th>3</th>\n",
              "      <td>Best Chocolate Chip Cookies</td>\n",
              "      <td>['1 cup butter, softened ADVERTISEMENT', '1 cu...</td>\n",
              "      <td>Preheat oven to 350 degrees F (175 degrees C)....</td>\n",
              "    </tr>\n",
              "    <tr>\n",
              "      <th>4</th>\n",
              "      <td>Homemade Mac and Cheese Casserole</td>\n",
              "      <td>['8 ounces whole wheat rotini pasta ADVERTISEM...</td>\n",
              "      <td>Preheat oven to 350 degrees F. Line a 2-quart ...</td>\n",
              "    </tr>\n",
              "  </tbody>\n",
              "</table>\n",
              "</div>\n",
              "    <div class=\"colab-df-buttons\">\n",
              "\n",
              "  <div class=\"colab-df-container\">\n",
              "    <button class=\"colab-df-convert\" onclick=\"convertToInteractive('df-1e7630f5-6039-42c2-abe3-632c7fccb27e')\"\n",
              "            title=\"Convert this dataframe to an interactive table.\"\n",
              "            style=\"display:none;\">\n",
              "\n",
              "  <svg xmlns=\"http://www.w3.org/2000/svg\" height=\"24px\" viewBox=\"0 -960 960 960\">\n",
              "    <path d=\"M120-120v-720h720v720H120Zm60-500h600v-160H180v160Zm220 220h160v-160H400v160Zm0 220h160v-160H400v160ZM180-400h160v-160H180v160Zm440 0h160v-160H620v160ZM180-180h160v-160H180v160Zm440 0h160v-160H620v160Z\"/>\n",
              "  </svg>\n",
              "    </button>\n",
              "\n",
              "  <style>\n",
              "    .colab-df-container {\n",
              "      display:flex;\n",
              "      gap: 12px;\n",
              "    }\n",
              "\n",
              "    .colab-df-convert {\n",
              "      background-color: #E8F0FE;\n",
              "      border: none;\n",
              "      border-radius: 50%;\n",
              "      cursor: pointer;\n",
              "      display: none;\n",
              "      fill: #1967D2;\n",
              "      height: 32px;\n",
              "      padding: 0 0 0 0;\n",
              "      width: 32px;\n",
              "    }\n",
              "\n",
              "    .colab-df-convert:hover {\n",
              "      background-color: #E2EBFA;\n",
              "      box-shadow: 0px 1px 2px rgba(60, 64, 67, 0.3), 0px 1px 3px 1px rgba(60, 64, 67, 0.15);\n",
              "      fill: #174EA6;\n",
              "    }\n",
              "\n",
              "    .colab-df-buttons div {\n",
              "      margin-bottom: 4px;\n",
              "    }\n",
              "\n",
              "    [theme=dark] .colab-df-convert {\n",
              "      background-color: #3B4455;\n",
              "      fill: #D2E3FC;\n",
              "    }\n",
              "\n",
              "    [theme=dark] .colab-df-convert:hover {\n",
              "      background-color: #434B5C;\n",
              "      box-shadow: 0px 1px 3px 1px rgba(0, 0, 0, 0.15);\n",
              "      filter: drop-shadow(0px 1px 2px rgba(0, 0, 0, 0.3));\n",
              "      fill: #FFFFFF;\n",
              "    }\n",
              "  </style>\n",
              "\n",
              "    <script>\n",
              "      const buttonEl =\n",
              "        document.querySelector('#df-1e7630f5-6039-42c2-abe3-632c7fccb27e button.colab-df-convert');\n",
              "      buttonEl.style.display =\n",
              "        google.colab.kernel.accessAllowed ? 'block' : 'none';\n",
              "\n",
              "      async function convertToInteractive(key) {\n",
              "        const element = document.querySelector('#df-1e7630f5-6039-42c2-abe3-632c7fccb27e');\n",
              "        const dataTable =\n",
              "          await google.colab.kernel.invokeFunction('convertToInteractive',\n",
              "                                                    [key], {});\n",
              "        if (!dataTable) return;\n",
              "\n",
              "        const docLinkHtml = 'Like what you see? Visit the ' +\n",
              "          '<a target=\"_blank\" href=https://colab.research.google.com/notebooks/data_table.ipynb>data table notebook</a>'\n",
              "          + ' to learn more about interactive tables.';\n",
              "        element.innerHTML = '';\n",
              "        dataTable['output_type'] = 'display_data';\n",
              "        await google.colab.output.renderOutput(dataTable, element);\n",
              "        const docLink = document.createElement('div');\n",
              "        docLink.innerHTML = docLinkHtml;\n",
              "        element.appendChild(docLink);\n",
              "      }\n",
              "    </script>\n",
              "  </div>\n",
              "\n",
              "\n",
              "<div id=\"df-5f3c6d00-e070-4c38-8f2c-a4d8891cb1dc\">\n",
              "  <button class=\"colab-df-quickchart\" onclick=\"quickchart('df-5f3c6d00-e070-4c38-8f2c-a4d8891cb1dc')\"\n",
              "            title=\"Suggest charts\"\n",
              "            style=\"display:none;\">\n",
              "\n",
              "<svg xmlns=\"http://www.w3.org/2000/svg\" height=\"24px\"viewBox=\"0 0 24 24\"\n",
              "     width=\"24px\">\n",
              "    <g>\n",
              "        <path d=\"M19 3H5c-1.1 0-2 .9-2 2v14c0 1.1.9 2 2 2h14c1.1 0 2-.9 2-2V5c0-1.1-.9-2-2-2zM9 17H7v-7h2v7zm4 0h-2V7h2v10zm4 0h-2v-4h2v4z\"/>\n",
              "    </g>\n",
              "</svg>\n",
              "  </button>\n",
              "\n",
              "<style>\n",
              "  .colab-df-quickchart {\n",
              "      --bg-color: #E8F0FE;\n",
              "      --fill-color: #1967D2;\n",
              "      --hover-bg-color: #E2EBFA;\n",
              "      --hover-fill-color: #174EA6;\n",
              "      --disabled-fill-color: #AAA;\n",
              "      --disabled-bg-color: #DDD;\n",
              "  }\n",
              "\n",
              "  [theme=dark] .colab-df-quickchart {\n",
              "      --bg-color: #3B4455;\n",
              "      --fill-color: #D2E3FC;\n",
              "      --hover-bg-color: #434B5C;\n",
              "      --hover-fill-color: #FFFFFF;\n",
              "      --disabled-bg-color: #3B4455;\n",
              "      --disabled-fill-color: #666;\n",
              "  }\n",
              "\n",
              "  .colab-df-quickchart {\n",
              "    background-color: var(--bg-color);\n",
              "    border: none;\n",
              "    border-radius: 50%;\n",
              "    cursor: pointer;\n",
              "    display: none;\n",
              "    fill: var(--fill-color);\n",
              "    height: 32px;\n",
              "    padding: 0;\n",
              "    width: 32px;\n",
              "  }\n",
              "\n",
              "  .colab-df-quickchart:hover {\n",
              "    background-color: var(--hover-bg-color);\n",
              "    box-shadow: 0 1px 2px rgba(60, 64, 67, 0.3), 0 1px 3px 1px rgba(60, 64, 67, 0.15);\n",
              "    fill: var(--button-hover-fill-color);\n",
              "  }\n",
              "\n",
              "  .colab-df-quickchart-complete:disabled,\n",
              "  .colab-df-quickchart-complete:disabled:hover {\n",
              "    background-color: var(--disabled-bg-color);\n",
              "    fill: var(--disabled-fill-color);\n",
              "    box-shadow: none;\n",
              "  }\n",
              "\n",
              "  .colab-df-spinner {\n",
              "    border: 2px solid var(--fill-color);\n",
              "    border-color: transparent;\n",
              "    border-bottom-color: var(--fill-color);\n",
              "    animation:\n",
              "      spin 1s steps(1) infinite;\n",
              "  }\n",
              "\n",
              "  @keyframes spin {\n",
              "    0% {\n",
              "      border-color: transparent;\n",
              "      border-bottom-color: var(--fill-color);\n",
              "      border-left-color: var(--fill-color);\n",
              "    }\n",
              "    20% {\n",
              "      border-color: transparent;\n",
              "      border-left-color: var(--fill-color);\n",
              "      border-top-color: var(--fill-color);\n",
              "    }\n",
              "    30% {\n",
              "      border-color: transparent;\n",
              "      border-left-color: var(--fill-color);\n",
              "      border-top-color: var(--fill-color);\n",
              "      border-right-color: var(--fill-color);\n",
              "    }\n",
              "    40% {\n",
              "      border-color: transparent;\n",
              "      border-right-color: var(--fill-color);\n",
              "      border-top-color: var(--fill-color);\n",
              "    }\n",
              "    60% {\n",
              "      border-color: transparent;\n",
              "      border-right-color: var(--fill-color);\n",
              "    }\n",
              "    80% {\n",
              "      border-color: transparent;\n",
              "      border-right-color: var(--fill-color);\n",
              "      border-bottom-color: var(--fill-color);\n",
              "    }\n",
              "    90% {\n",
              "      border-color: transparent;\n",
              "      border-bottom-color: var(--fill-color);\n",
              "    }\n",
              "  }\n",
              "</style>\n",
              "\n",
              "  <script>\n",
              "    async function quickchart(key) {\n",
              "      const quickchartButtonEl =\n",
              "        document.querySelector('#' + key + ' button');\n",
              "      quickchartButtonEl.disabled = true;  // To prevent multiple clicks.\n",
              "      quickchartButtonEl.classList.add('colab-df-spinner');\n",
              "      try {\n",
              "        const charts = await google.colab.kernel.invokeFunction(\n",
              "            'suggestCharts', [key], {});\n",
              "      } catch (error) {\n",
              "        console.error('Error during call to suggestCharts:', error);\n",
              "      }\n",
              "      quickchartButtonEl.classList.remove('colab-df-spinner');\n",
              "      quickchartButtonEl.classList.add('colab-df-quickchart-complete');\n",
              "    }\n",
              "    (() => {\n",
              "      let quickchartButtonEl =\n",
              "        document.querySelector('#df-5f3c6d00-e070-4c38-8f2c-a4d8891cb1dc button');\n",
              "      quickchartButtonEl.style.display =\n",
              "        google.colab.kernel.accessAllowed ? 'block' : 'none';\n",
              "    })();\n",
              "  </script>\n",
              "</div>\n",
              "\n",
              "    </div>\n",
              "  </div>\n"
            ],
            "text/plain": [
              "                               Foods  \\\n",
              "0  Slow Cooker Chicken and Dumplings   \n",
              "1      Awesome Slow Cooker Pot Roast   \n",
              "2               Brown Sugar Meatloaf   \n",
              "3        Best Chocolate Chip Cookies   \n",
              "4  Homemade Mac and Cheese Casserole   \n",
              "\n",
              "                                             Recipes  \\\n",
              "0  ['4 skinless, boneless chicken breast halves A...   \n",
              "1  ['2 (10.75 ounce) cans condensed cream of mush...   \n",
              "2  ['1/2 cup packed brown sugar ADVERTISEMENT', '...   \n",
              "3  ['1 cup butter, softened ADVERTISEMENT', '1 cu...   \n",
              "4  ['8 ounces whole wheat rotini pasta ADVERTISEM...   \n",
              "\n",
              "                                        Instructions  \n",
              "0  Place the chicken, butter, soup, and onion in ...  \n",
              "1  In a slow cooker, mix cream of mushroom soup, ...  \n",
              "2  Preheat oven to 350 degrees F (175 degrees C)....  \n",
              "3  Preheat oven to 350 degrees F (175 degrees C)....  \n",
              "4  Preheat oven to 350 degrees F. Line a 2-quart ...  "
            ]
          },
          "execution_count": 34,
          "metadata": {},
          "output_type": "execute_result"
        }
      ],
      "source": [
        "recipes.head()"
      ]
    },
    {
      "cell_type": "code",
      "execution_count": null,
      "metadata": {
        "id": "3blt_7Bd_Mec"
      },
      "outputs": [],
      "source": [
        "import pandas as pd\n",
        "from sklearn.model_selection import train_test_split\n",
        "# Splitting the dataset\n",
        "train_data, test_data = train_test_split(recipes, test_size=0.2, random_state=42)\n",
        "train_data, val_data = train_test_split(train_data, test_size=0.1, random_state=42)\n"
      ]
    },
    {
      "cell_type": "code",
      "execution_count": null,
      "metadata": {
        "id": "cCOjt56R_fja"
      },
      "outputs": [],
      "source": [
        "# Splitting the dataset\n",
        "train_data, test_data = train_test_split(recipes, test_size=0.2, random_state=42)\n",
        "train_data, val_data = train_test_split(train_data, test_size=0.1, random_state=42)\n"
      ]
    },
    {
      "cell_type": "code",
      "execution_count": null,
      "metadata": {
        "id": "Wb1YnBLn_n0J"
      },
      "outputs": [],
      "source": [
        "# Saving the split datasets to CSV (optional)\n",
        "train_data.to_csv('/content/drive/MyDrive/train_data.csv', index=False)\n",
        "val_data.to_csv('/content/drive/MyDrive/val_data.csv', index=False)\n",
        "test_data.to_csv('/content/drive/MyDrive/test_data.csv', index=False)\n"
      ]
    },
    {
      "cell_type": "code",
      "execution_count": null,
      "metadata": {
        "id": "z1Vfw7WM6lvS"
      },
      "outputs": [],
      "source": [
        "STOP_WORD_Foods = '📗 '\n",
        "STOP_WORD_Recipes = '\\n🥕\\n\\n'\n",
        "STOP_WORD_Instructions = '\\n📝\\n\\n'"
      ]
    },
    {
      "cell_type": "code",
      "execution_count": null,
      "metadata": {
        "colab": {
          "base_uri": "https://localhost:8080/"
        },
        "id": "jwRQ_1Rg61N1",
        "outputId": "753e99ad-cdb5-4986-8ccc-acdb1ff1620b"
      },
      "outputs": [
        {
          "name": "stdout",
          "output_type": "stream",
          "text": [
            "📗 Slow Cooker Chicken and Dumplings\n",
            "🥕\n",
            "\n",
            "• ['4 skinless\n",
            "• boneless chicken breast halves '\n",
            "• '2 tablespoons butter '\n",
            "• '2 (10.75 ounce) cans condensed cream of chicken soup '\n",
            "• '1 onion\n",
            "• finely diced '\n",
            "• '2 (10 ounce) packages refrigerated biscuit dough\n",
            "• torn into pieces '\n",
            "• '']\n",
            "\n",
            "📝\n",
            "\n",
            "▪︎ Place the chicken, butter, soup, and onion in a slow cooker, and fill with enough water to cover.\n",
            "▪︎ Cover, and cook for 5 to 6 hours on High. About 30 minutes before serving, place the torn biscuit dough in the slow cooker. Cook until the dough is no longer raw in the center.\n",
            "\n",
            "📗 Awesome Slow Cooker Pot Roast\n",
            "🥕\n",
            "\n",
            "• ['2 (10.75 ounce) cans condensed cream of mushroom soup '\n",
            "• '1 (1 ounce) package dry onion soup mix '\n",
            "• '1 1/4 cups water '\n",
            "• '5 1/2 pounds pot roast '\n",
            "• '']\n",
            "\n",
            "📝\n",
            "\n",
            "▪︎ In a slow cooker, mix cream of mushroom soup, dry onion soup mix and water. Place pot roast in slow cooker and coat with soup mixture.\n",
            "▪︎ Cook on High setting for 3 to 4 hours, or on Low setting for 8 to 9 hours.\n",
            "\n",
            "📗 Brown Sugar Meatloaf\n",
            "🥕\n",
            "\n",
            "• ['1/2 cup packed brown sugar '\n",
            "• '1/2 cup ketchup '\n",
            "• '1 1/2 pounds lean ground beef '\n",
            "• '3/4 cup milk '\n",
            "• '2 eggs '\n",
            "• '1 1/2 teaspoons salt '\n",
            "• '1/4 teaspoon ground black pepper '\n",
            "• '1 small onion\n",
            "• chopped '\n",
            "• '1/4 teaspoon ground ginger '\n",
            "• '3/4 cup finely crushed saltine cracker crumbs '\n",
            "• '']\n",
            "\n",
            "📝\n",
            "\n",
            "▪︎ Preheat oven to 350 degrees F (175 degrees C). Lightly grease a 5x9 inch loaf pan.\n",
            "▪︎ Press the brown sugar in the bottom of the prepared loaf pan and spread the ketchup over the sugar.\n",
            "▪︎ In a mixing bowl, mix thoroughly all remaining ingredients and shape into a loaf. Place on top of the ketchup.\n",
            "▪︎ Bake in preheated oven for 1 hour or until juices are clear.\n",
            "\n",
            "📗 Best Chocolate Chip Cookies\n",
            "🥕\n",
            "\n",
            "• ['1 cup butter\n",
            "• softened '\n",
            "• '1 cup white sugar '\n",
            "• '1 cup packed brown sugar '\n",
            "• '2 eggs '\n",
            "• '2 teaspoons vanilla extract '\n",
            "• '3 cups all-purpose flour '\n",
            "• '1 teaspoon baking soda '\n",
            "• '2 teaspoons hot water '\n",
            "• '1/2 teaspoon salt '\n",
            "• '2 cups semisweet chocolate chips '\n",
            "• '1 cup chopped walnuts '\n",
            "• '']\n",
            "\n",
            "📝\n",
            "\n",
            "▪︎ Preheat oven to 350 degrees F (175 degrees C).\n",
            "▪︎ Cream together the butter, white sugar, and brown sugar until smooth. Beat in the eggs one at a time, then stir in the vanilla. Dissolve baking soda in hot water. Add to batter along with salt. Stir in flour, chocolate chips, and nuts. Drop by large spoonfuls onto ungreased pans.\n",
            "▪︎ Bake for about 10 minutes in the preheated oven, or until edges are nicely browned.\n",
            "\n",
            "📗 Homemade Mac and Cheese Casserole\n",
            "🥕\n",
            "\n",
            "• ['8 ounces whole wheat rotini pasta '\n",
            "• '3 cups fresh broccoli florets '\n",
            "• '1 medium onion\n",
            "• chopped '\n",
            "• '3 cloves garlic\n",
            "• minced '\n",
            "• '4 tablespoons butter\n",
            "• divided '\n",
            "• '2 tablespoons all-purpose flour '\n",
            "• '1/4 teaspoon salt '\n",
            "• '1/8 teaspoon ground black pepper '\n",
            "• '2 1/2 cups milk '\n",
            "• '8 ounces Cheddar cheese\n",
            "• shredded '\n",
            "• '4 ounces reduced-fat cream cheese\n",
            "• cubed and softened '\n",
            "• '1/2 cup fine dry Italian-seasoned bread crumbs '\n",
            "• 'Reynolds Wrap® Non Stick Aluminum Foil '\n",
            "• '']\n",
            "\n",
            "📝\n",
            "\n",
            "▪︎ Preheat oven to 350 degrees F. Line a 2-quart casserole dish with Reynolds Wrap(R) Pan Lining Paper, parchment side up. No need to grease dish.\n",
            "▪︎ Cook the pasta in a large saucepan according to the package directions, adding the broccoli for the last 3 minutes of cooking. Drain. Return to the saucepan and set aside.\n",
            "▪︎ Cook the onion and garlic in 2 tablespoons hot butter in a large skillet 5 to 7 minutes or until tender. Stir in flour, salt, and black pepper. Add the milk all at once. Cook and stir over medium heat until slightly thickened and bubbly. Add cheddar cheese and cream cheese, stirring until melted. Pour cheese sauce over the pasta and broccoli and stir until well combined.\n",
            "▪︎ Melt the remaining 2 tablespoons butter and mix with the bread crumbs in a small bowl. Transfer the pasta mixture to the prepared casserole dish. Top with the buttery bread crumbs.\n",
            "▪︎ Bake, uncovered, about 25 minutes or until bubbly and internal temperature is 165 degrees F. Let stand for 10 minutes before serving.\n",
            "\n"
          ]
        }
      ],
      "source": [
        "# Function definition\n",
        "def recipe_to_string(recipe):\n",
        "    noize_string = 'ADVERTISEMENT'  # Example noise string to be removed from the text\n",
        "\n",
        "    # Check if the keys exist before accessing them and provide default values if they don't\n",
        "    title = recipe.get('Foods', '')  # Use .get() with a default value to handle missing keys\n",
        "    ingredients = recipe.get('Recipes', '')\n",
        "    instructions = recipe.get('Instructions', '').split('\\n')\n",
        "\n",
        "    # Initialize an empty string to accumulate the ingredients\n",
        "    ingredients_string = ''\n",
        "    for ingredient in ingredients.split(','):\n",
        "        ingredient = ingredient.replace(noize_string, '')  # Remove the noise string from the ingredient\n",
        "        if ingredient.strip():\n",
        "            ingredients_string += f'• {ingredient.strip()}\\n'  # Add formatted ingredient to the string\n",
        "\n",
        "    # Initialize an empty string to accumulate the instructions\n",
        "    instructions_string = ''\n",
        "    for instruction in instructions:\n",
        "        instruction = instruction.replace(noize_string, '')  # Remove the noise string from the instruction\n",
        "        if instruction.strip():\n",
        "            instructions_string += f'▪︎ {instruction.strip()}\\n'  # Add formatted instruction to the string\n",
        "\n",
        "    # Use title from the recipe dictionary and concatenate all parts into one string\n",
        "    return f'{STOP_WORD_Foods}{title}{STOP_WORD_Recipes}{ingredients_string}{STOP_WORD_Instructions}{instructions_string}'\n",
        "\n",
        "# Apply the function to each row of the DataFrame\n",
        "dataset_stringified = [recipe_to_string(recipe) for _, recipe in recipes.iterrows()]\n",
        "\n",
        "# Print the first few processed recipes to verify\n",
        "for recipe_str in dataset_stringified[:5]:\n",
        "    print(recipe_str)"
      ]
    },
    {
      "cell_type": "code",
      "execution_count": null,
      "metadata": {
        "id": "mpQpDnb1AelC"
      },
      "outputs": [],
      "source": [
        "# Iterate over the rows of the DataFrame instead of column names\n",
        "dataset_stringified = [recipe_to_string(recipe) for _, recipe in recipes.iterrows()]"
      ]
    },
    {
      "cell_type": "code",
      "execution_count": null,
      "metadata": {
        "colab": {
          "base_uri": "https://localhost:8080/"
        },
        "id": "7pS6SITQAp0Z",
        "outputId": "991c59f5-e83c-4cdb-afeb-c6cde04368b9"
      },
      "outputs": [
        {
          "name": "stdout",
          "output_type": "stream",
          "text": [
            "Recipe #1\n",
            "---------\n",
            "📗 Slow Cooker Chicken and Dumplings\n",
            "🥕\n",
            "\n",
            "• ['4 skinless\n",
            "• boneless chicken breast halves '\n",
            "• '2 tablespoons butter '\n",
            "• '2 (10.75 ounce) cans condensed cream of chicken soup '\n",
            "• '1 onion\n",
            "• finely diced '\n",
            "• '2 (10 ounce) packages refrigerated biscuit dough\n",
            "• torn into pieces '\n",
            "• '']\n",
            "\n",
            "📝\n",
            "\n",
            "▪︎ Place the chicken, butter, soup, and onion in a slow cooker, and fill with enough water to cover.\n",
            "▪︎ Cover, and cook for 5 to 6 hours on High. About 30 minutes before serving, place the torn biscuit dough in the slow cooker. Cook until the dough is no longer raw in the center.\n",
            "\n",
            "\n",
            "\n",
            "Recipe #2\n",
            "---------\n",
            "📗 Awesome Slow Cooker Pot Roast\n",
            "🥕\n",
            "\n",
            "• ['2 (10.75 ounce) cans condensed cream of mushroom soup '\n",
            "• '1 (1 ounce) package dry onion soup mix '\n",
            "• '1 1/4 cups water '\n",
            "• '5 1/2 pounds pot roast '\n",
            "• '']\n",
            "\n",
            "📝\n",
            "\n",
            "▪︎ In a slow cooker, mix cream of mushroom soup, dry onion soup mix and water. Place pot roast in slow cooker and coat with soup mixture.\n",
            "▪︎ Cook on High setting for 3 to 4 hours, or on Low setting for 8 to 9 hours.\n",
            "\n",
            "\n",
            "\n",
            "Recipe #3\n",
            "---------\n",
            "📗 Brown Sugar Meatloaf\n",
            "🥕\n",
            "\n",
            "• ['1/2 cup packed brown sugar '\n",
            "• '1/2 cup ketchup '\n",
            "• '1 1/2 pounds lean ground beef '\n",
            "• '3/4 cup milk '\n",
            "• '2 eggs '\n",
            "• '1 1/2 teaspoons salt '\n",
            "• '1/4 teaspoon ground black pepper '\n",
            "• '1 small onion\n",
            "• chopped '\n",
            "• '1/4 teaspoon ground ginger '\n",
            "• '3/4 cup finely crushed saltine cracker crumbs '\n",
            "• '']\n",
            "\n",
            "📝\n",
            "\n",
            "▪︎ Preheat oven to 350 degrees F (175 degrees C). Lightly grease a 5x9 inch loaf pan.\n",
            "▪︎ Press the brown sugar in the bottom of the prepared loaf pan and spread the ketchup over the sugar.\n",
            "▪︎ In a mixing bowl, mix thoroughly all remaining ingredients and shape into a loaf. Place on top of the ketchup.\n",
            "▪︎ Bake in preheated oven for 1 hour or until juices are clear.\n",
            "\n",
            "\n",
            "\n",
            "Recipe #4\n",
            "---------\n",
            "📗 Best Chocolate Chip Cookies\n",
            "🥕\n",
            "\n",
            "• ['1 cup butter\n",
            "• softened '\n",
            "• '1 cup white sugar '\n",
            "• '1 cup packed brown sugar '\n",
            "• '2 eggs '\n",
            "• '2 teaspoons vanilla extract '\n",
            "• '3 cups all-purpose flour '\n",
            "• '1 teaspoon baking soda '\n",
            "• '2 teaspoons hot water '\n",
            "• '1/2 teaspoon salt '\n",
            "• '2 cups semisweet chocolate chips '\n",
            "• '1 cup chopped walnuts '\n",
            "• '']\n",
            "\n",
            "📝\n",
            "\n",
            "▪︎ Preheat oven to 350 degrees F (175 degrees C).\n",
            "▪︎ Cream together the butter, white sugar, and brown sugar until smooth. Beat in the eggs one at a time, then stir in the vanilla. Dissolve baking soda in hot water. Add to batter along with salt. Stir in flour, chocolate chips, and nuts. Drop by large spoonfuls onto ungreased pans.\n",
            "▪︎ Bake for about 10 minutes in the preheated oven, or until edges are nicely browned.\n",
            "\n",
            "\n",
            "\n",
            "Recipe #5\n",
            "---------\n",
            "📗 Homemade Mac and Cheese Casserole\n",
            "🥕\n",
            "\n",
            "• ['8 ounces whole wheat rotini pasta '\n",
            "• '3 cups fresh broccoli florets '\n",
            "• '1 medium onion\n",
            "• chopped '\n",
            "• '3 cloves garlic\n",
            "• minced '\n",
            "• '4 tablespoons butter\n",
            "• divided '\n",
            "• '2 tablespoons all-purpose flour '\n",
            "• '1/4 teaspoon salt '\n",
            "• '1/8 teaspoon ground black pepper '\n",
            "• '2 1/2 cups milk '\n",
            "• '8 ounces Cheddar cheese\n",
            "• shredded '\n",
            "• '4 ounces reduced-fat cream cheese\n",
            "• cubed and softened '\n",
            "• '1/2 cup fine dry Italian-seasoned bread crumbs '\n",
            "• 'Reynolds Wrap® Non Stick Aluminum Foil '\n",
            "• '']\n",
            "\n",
            "📝\n",
            "\n",
            "▪︎ Preheat oven to 350 degrees F. Line a 2-quart casserole dish with Reynolds Wrap(R) Pan Lining Paper, parchment side up. No need to grease dish.\n",
            "▪︎ Cook the pasta in a large saucepan according to the package directions, adding the broccoli for the last 3 minutes of cooking. Drain. Return to the saucepan and set aside.\n",
            "▪︎ Cook the onion and garlic in 2 tablespoons hot butter in a large skillet 5 to 7 minutes or until tender. Stir in flour, salt, and black pepper. Add the milk all at once. Cook and stir over medium heat until slightly thickened and bubbly. Add cheddar cheese and cream cheese, stirring until melted. Pour cheese sauce over the pasta and broccoli and stir until well combined.\n",
            "▪︎ Melt the remaining 2 tablespoons butter and mix with the bread crumbs in a small bowl. Transfer the pasta mixture to the prepared casserole dish. Top with the buttery bread crumbs.\n",
            "▪︎ Bake, uncovered, about 25 minutes or until bubbly and internal temperature is 165 degrees F. Let stand for 10 minutes before serving.\n",
            "\n",
            "\n",
            "\n",
            "Recipe #6\n",
            "---------\n",
            "📗 Banana Banana Bread\n",
            "🥕\n",
            "\n",
            "• ['2 cups all-purpose flour '\n",
            "• '1 teaspoon baking soda '\n",
            "• '1/4 teaspoon salt '\n",
            "• '1/2 cup butter '\n",
            "• '3/4 cup brown sugar '\n",
            "• '2 eggs\n",
            "• beaten '\n",
            "• '2 1/3 cups mashed overripe bananas '\n",
            "• '']\n",
            "\n",
            "📝\n",
            "\n",
            "▪︎ Preheat oven to 350 degrees F (175 degrees C). Lightly grease a 9x5 inch loaf pan.\n",
            "▪︎ In a large bowl, combine flour, baking soda and salt. In a separate bowl, cream together butter and brown sugar. Stir in eggs and mashed bananas until well blended. Stir banana mixture into flour mixture; stir just to moisten. Pour batter into prepared loaf pan.\n",
            "▪︎ Bake in preheated oven for 60 to 65 minutes, until a toothpick inserted into center of the loaf comes out clean. Let bread cool in pan for 10 minutes, then turn out onto a wire rack.\n",
            "\n",
            "\n",
            "\n",
            "Recipe #7\n",
            "---------\n",
            "📗 Chef John's Fisherman's Pie\n",
            "🥕\n",
            "\n",
            "• ['For potato crust: '\n",
            "• '3 russet potatoes\n",
            "• peeled and cut into chunks '\n",
            "• '3 tablespoons butter '\n",
            "• '1 pinch freshly grated nutmeg '\n",
            "• 'salt and ground black pepper to taste '\n",
            "• '1 pinch cayenne pepper\n",
            "• or to taste '\n",
            "• '1/2 cup milk '\n",
            "• 'For the spinach: '\n",
            "• '2 teaspoons olive oil '\n",
            "• '12 ounces baby spinach leaves '\n",
            "• 'For the sauce: '\n",
            "• '3 tablespoons butter '\n",
            "• '3 tablespoons all-purpose flour '\n",
            "• '2 cloves garlic\n",
            "• minced '\n",
            "• '2 cups cold milk\n",
            "• divided '\n",
            "• '2 teaspoons lemon zest '\n",
            "• 'For the rest: '\n",
            "• '1 tablespoon butter '\n",
            "• 'salt and ground black pepper to taste '\n",
            "• '1 pinch cayenne pepper\n",
            "• or to taste '\n",
            "• '2 pounds boneless cod fillets '\n",
            "• '1/2 lemon\n",
            "• juiced '\n",
            "• '1 tablespoon chopped fresh chives for garnish '\n",
            "• '']\n",
            "\n",
            "📝\n",
            "\n",
            "▪︎ Bring a large saucepan of salted water and to a boil; add russet potatoes to boiling water and cook until very tender, about 20 minutes. Drain well. Mash in 3 tablespoons butter until thoroughly combined. Season with nutmeg, salt, black pepper, and cayenne pepper to taste. Mash 1/2 cup milk into potato mixture until smooth.\n",
            "▪︎ Drizzle olive oil in a large Dutch oven over medium-high heat, add spinach, and season with a big pinch of salt. Cook, stirring occasionally, until spinach has wilted, about 1 minute. Transfer to a bowl lined with paper towels to wick away excess moisture.\n",
            "▪︎ Heat 3 tablespoons butter and flour in a saucepan over medium heat; whisk mixture to a smooth paste. Cook, stirring constantly, until mixture has a nutty smell and is slightly browned, about 2 minutes. Add chopped garlic; whisk until fragrant, 10 to 20 seconds.\n",
            "▪︎ Whisk 1 cup cold milk into flour mixture; cook until thickened. Whisk in remaining 1 cup milk and lemon zest. Bring white sauce to a gentle simmer, whisking constantly; season with salt. Turn heat to very low and keep sauce warm.\n",
            "▪︎ Preheat oven to 375 degrees F (190 degrees C). Grease an 8x12-inch casserole dish with 1 tablespoon butter.\n",
            "▪︎ Season buttered pan with salt, black pepper, and cayenne pepper. Lay boneless cod fillets into the pan in a single layer. Season tops of fillets with more salt, black pepper, and cayenne pepper. Spread spinach evenly over fish and drizzle with lemon juice. Spoon white sauce over spinach; give casserole dish several taps and shakes to eliminate bubbles.\n",
            "▪︎ Drop mashed potatoes by heaping spoonfuls over the casserole and spread smoothly to cover. Place dish onto a rimmed baking sheet to catch spills.\n",
            "▪︎ Bake in the preheated oven until bubbling, about 40 minutes. Turn on oven's broiler and broil until potato crust has a golden brown top, about 2 minutes. Fish should flake easily. Let stand 10 minutes before serving. Garnish with a sprinkle of chives.\n",
            "\n",
            "\n",
            "\n",
            "Recipe #8\n",
            "---------\n",
            "📗 Mom's Zucchini Bread\n",
            "🥕\n",
            "\n",
            "• ['3 cups all-purpose flour '\n",
            "• '1 teaspoon salt '\n",
            "• '1 teaspoon baking soda '\n",
            "• '1 teaspoon baking powder '\n",
            "• '1 tablespoon ground cinnamon '\n",
            "• '3 eggs '\n",
            "• '1 cup vegetable oil '\n",
            "• '2 1/4 cups white sugar '\n",
            "• '3 teaspoons vanilla extract '\n",
            "• '2 cups grated zucchini '\n",
            "• '1 cup chopped walnuts '\n",
            "• '']\n",
            "\n",
            "📝\n",
            "\n",
            "▪︎ Grease and flour two 8 x 4 inch pans. Preheat oven to 325 degrees F (165 degrees C).\n",
            "▪︎ Sift flour, salt, baking powder, soda, and cinnamon together in a bowl.\n",
            "▪︎ Beat eggs, oil, vanilla, and sugar together in a large bowl. Add sifted ingredients to the creamed mixture, and beat well. Stir in zucchini and nuts until well combined. Pour batter into prepared pans.\n",
            "▪︎ Bake for 40 to 60 minutes, or until tester inserted in the center comes out clean. Cool in pan on rack for 20 minutes. Remove bread from pan, and completely cool.\n",
            "\n",
            "\n",
            "\n",
            "Recipe #9\n",
            "---------\n",
            "📗 The Best Rolled Sugar Cookies\n",
            "🥕\n",
            "\n",
            "• ['1 1/2 cups butter\n",
            "• softened '\n",
            "• '2 cups white sugar '\n",
            "• '4 eggs '\n",
            "• '1 teaspoon vanilla extract '\n",
            "• '5 cups all-purpose flour '\n",
            "• '2 teaspoons baking powder '\n",
            "• '1 teaspoon salt '\n",
            "• '']\n",
            "\n",
            "📝\n",
            "\n",
            "▪︎ In a large bowl, cream together butter and sugar until smooth. Beat in eggs and vanilla. Stir in the flour, baking powder, and salt. Cover, and chill dough for at least one hour (or overnight).\n",
            "▪︎ Preheat oven to 400 degrees F (200 degrees C). Roll out dough on floured surface 1/4 to 1/2 inch thick. Cut into shapes with any cookie cutter. Place cookies 1 inch apart on ungreased cookie sheets.\n",
            "▪︎ Bake 6 to 8 minutes in preheated oven. Cool completely.\n",
            "\n",
            "\n",
            "\n",
            "Recipe #10\n",
            "---------\n",
            "📗 Singapore Chili Crabs\n",
            "🥕\n",
            "\n",
            "• ['Sauce: '\n",
            "• '1/2 cup ketchup '\n",
            "• '1/2 cup chicken broth '\n",
            "• '1 large egg '\n",
            "• '2 tablespoons soy sauce '\n",
            "• '2 tablespoons chile-garlic sauce (such as sambal oelek) '\n",
            "• '1 tablespoon oyster sauce '\n",
            "• '1 tablespoon tamarind paste '\n",
            "• '2 teaspoons fish sauce '\n",
            "• '2 teaspoons palm sugar '\n",
            "• '1/4 cup minced shallot '\n",
            "• '6 cloves garlic\n",
            "• minced '\n",
            "• '2 tablespoons vegetable oil\n",
            "• or more as needed '\n",
            "• '2 tablespoons minced fresh ginger root '\n",
            "• '1 tablespoon minced serrano pepper '\n",
            "• '2 cooked Dungeness crabs\n",
            "• cleaned and cracked '\n",
            "• '2 tablespoons chopped fresh cilantro '\n",
            "• '2 tablespoons sliced green onion (green part only) '\n",
            "• '']\n",
            "\n",
            "📝\n",
            "\n",
            "▪︎ Whisk ketchup, chicken broth, egg, soy sauce, chile-garlic sauce, oyster sauce, tamarind paste, fish sauce, and palm sugar together in a bowl.\n",
            "▪︎ Stir shallots, garlic, oil, ginger, and serrano pepper together in a pot over medium-high heat. Saute until sizzling, about 2 minutes. Add crab to pot, cover the pot with a lid, and shake until crab is completely coated in shallot mixture. Remove lid and cook and stir until heated through, about 3 minutes.\n",
            "▪︎ Pour ketchup mixture into pot, reduce heat to medium, and cook and stir until sauce thickens and crab is hot about 5 minutes. Remove from heat; stir in cilantro and green onions.\n",
            "\n",
            "\n",
            "\n"
          ]
        }
      ],
      "source": [
        "for recipe_index, recipe_string in enumerate(dataset_stringified[:10]):\n",
        "    print('Recipe #{}\\n---------'.format(recipe_index + 1))\n",
        "    print(recipe_string)\n",
        "    print('\\n')"
      ]
    },
    {
      "cell_type": "code",
      "execution_count": null,
      "metadata": {
        "colab": {
          "base_uri": "https://localhost:8080/"
        },
        "id": "Yl2puDy3Az3Y",
        "outputId": "70ffd560-d537-4352-fd27-20969203a660"
      },
      "outputs": [
        {
          "name": "stdout",
          "output_type": "stream",
          "text": [
            "📗 Honey Mustard Dressing II\n",
            "🥕\n",
            "\n",
            "• ['1/4 cup mayonnaise '\n",
            "• '1 tablespoon prepared mustard '\n",
            "• '1 tablespoon honey '\n",
            "• '1/2 tablespoon lemon juice '\n",
            "• '']\n",
            "\n",
            "📝\n",
            "\n",
            "▪︎ In a small bowl, whisk together the mayonnaise, mustard, honey, and lemon juice. Store covered in the refrigerator.\n",
            "\n"
          ]
        }
      ],
      "source": [
        "print(dataset_stringified[500])"
      ]
    },
    {
      "cell_type": "code",
      "execution_count": null,
      "metadata": {
        "id": "xnYjdUHaA66j"
      },
      "outputs": [],
      "source": [
        "recipes_lengths = []\n",
        "for recipe_text in dataset_stringified:\n",
        "    recipes_lengths.append(len(recipe_text))"
      ]
    },
    {
      "cell_type": "code",
      "execution_count": null,
      "metadata": {
        "colab": {
          "base_uri": "https://localhost:8080/",
          "height": 430
        },
        "id": "2v8TzEGdA-jR",
        "outputId": "b6e15e9b-af5d-4f4f-f9ec-d566d4862d30"
      },
      "outputs": [
        {
          "data": {
            "image/png": "[encoded data removed]",
            "text/plain": [
              "<Figure size 640x480 with 1 Axes>"
            ]
          },
          "metadata": {},
          "output_type": "display_data"
        }
      ],
      "source": [
        "import matplotlib.pyplot as plt\n",
        "plt.hist(recipes_lengths, bins=50)\n",
        "plt.show()"
      ]
    },
    {
      "cell_type": "code",
      "execution_count": null,
      "metadata": {
        "colab": {
          "base_uri": "https://localhost:8080/",
          "height": 430
        },
        "id": "9AK7d8Y5BDcJ",
        "outputId": "ec4263a1-f4d4-442a-91c2-98dd29a7b676"
      },
      "outputs": [
        {
          "data": {
            "image/png": "[encoded data removed]",
            "text/plain": [
              "<Figure size 640x480 with 1 Axes>"
            ]
          },
          "metadata": {},
          "output_type": "display_data"
        }
      ],
      "source": [
        "plt.hist(recipes_lengths, range=(0, 8000), bins=50)\n",
        "plt.show()"
      ]
    },
    {
      "cell_type": "code",
      "execution_count": null,
      "metadata": {
        "id": "RoVWGk4mB1cP"
      },
      "outputs": [],
      "source": [
        "# Concatenate Foods, Ingredients, and Instructions with stop words\n",
        "recipes['full_text'] = recipes['Foods'] + STOP_WORD_Foods + recipes['Recipes'] + STOP_WORD_Recipes + recipes['Instructions'] + STOP_WORD_Instructions"
      ]
    },
    {
      "cell_type": "code",
      "execution_count": null,
      "metadata": {
        "id": "xqxJfS3RCh9R"
      },
      "outputs": [],
      "source": [
        "from tensorflow.keras.preprocessing.text import Tokenizer\n",
        "\n",
        "# Tokenize the text\n",
        "tokenizer = Tokenizer()\n",
        "tokenizer.fit_on_texts(recipes['full_text'])\n",
        "total_words = len(tokenizer.word_index) + 1"
      ]
    },
    {
      "cell_type": "code",
      "execution_count": null,
      "metadata": {
        "id": "CS0VgPe-C23P"
      },
      "outputs": [],
      "source": [
        "# Create input sequences using tokenizer\n",
        "input_sequences = tokenizer.texts_to_sequences(recipes['full_text'])\n"
      ]
    },
    {
      "cell_type": "code",
      "execution_count": null,
      "metadata": {
        "id": "7sexEzpkC9og"
      },
      "outputs": [],
      "source": [
        "from tensorflow.keras.preprocessing.sequence import pad_sequences # Import the pad_sequences function\n",
        "\n",
        "# Pad sequences to ensure uniform length\n",
        "max_sequence_len = max([len(seq) for seq in input_sequences])\n",
        "input_sequences = pad_sequences(input_sequences, maxlen=max_sequence_len, padding='post')"
      ]
    },
    {
      "cell_type": "code",
      "execution_count": null,
      "metadata": {
        "id": "fJREq0flDM0_"
      },
      "outputs": [],
      "source": [
        "# Prepare X (input) and y (target) for training\n",
        "X = input_sequences[:, :-1]  # All but the last token\n",
        "y = input_sequences[:, 1:]   # All but the first token\n"
      ]
    },
    {
      "cell_type": "code",
      "execution_count": null,
      "metadata": {
        "id": "W81VJJspDSWi"
      },
      "outputs": [],
      "source": [
        "# Create TensorFlow dataset\n",
        "dataset = tf.data.Dataset.from_tensor_slices((X, y))"
      ]
    },
    {
      "cell_type": "code",
      "execution_count": null,
      "metadata": {
        "id": "AwVHmB9EDXwi"
      },
      "outputs": [],
      "source": [
        "# Define hyperparameters\n",
        "embedding_dim = 100\n",
        "max_sequence_len = X.shape[1]  # Length of input sequences\n",
        "\n",
        "# Define the model architecture\n",
        "model = Sequential([\n",
        "    Embedding(total_words, embedding_dim, input_length=max_sequence_len),\n",
        "    LSTM(150, return_sequences=True),\n",
        "    Dense(total_words, activation='softmax')\n",
        "])\n",
        "\n",
        "# Compile the model\n",
        "model.compile(loss='sparse_categorical_crossentropy', optimizer='adam', metrics=['accuracy'])\n"
      ]
    },
    {
      "cell_type": "code",
      "execution_count": null,
      "metadata": {
        "colab": {
          "base_uri": "https://localhost:8080/"
        },
        "id": "L9GoI7LDIlK1",
        "outputId": "e148e616-bd79-4669-fc2e-ad8fa1da95cd"
      },
      "outputs": [
        {
          "name": "stdout",
          "output_type": "stream",
          "text": [
            "Epoch 1/10\n",
            "989/989 [==============================] - 658s 663ms/step - loss: 1.4653 - accuracy: 0.8154 - val_loss: 1.0170 - val_accuracy: 0.8322\n",
            "Epoch 2/10\n",
            "989/989 [==============================] - 639s 647ms/step - loss: 0.7706 - accuracy: 0.8622 - val_loss: 0.7531 - val_accuracy: 0.8659\n",
            "Epoch 3/10\n",
            "989/989 [==============================] - 626s 633ms/step - loss: 0.6145 - accuracy: 0.8824 - val_loss: 0.6652 - val_accuracy: 0.8768\n",
            "Epoch 4/10\n",
            "989/989 [==============================] - 623s 630ms/step - loss: 0.5522 - accuracy: 0.8899 - val_loss: 0.6203 - val_accuracy: 0.8818\n",
            "Epoch 5/10\n",
            "989/989 [==============================] - 624s 631ms/step - loss: 0.5190 - accuracy: 0.8939 - val_loss: 0.5949 - val_accuracy: 0.8846\n",
            "Epoch 6/10\n",
            "989/989 [==============================] - 637s 644ms/step - loss: 0.4974 - accuracy: 0.8965 - val_loss: 0.5766 - val_accuracy: 0.8869\n",
            "Epoch 7/10\n",
            "989/989 [==============================] - 625s 632ms/step - loss: 0.4816 - accuracy: 0.8984 - val_loss: 0.5633 - val_accuracy: 0.8886\n",
            "Epoch 8/10\n",
            "989/989 [==============================] - 639s 646ms/step - loss: 0.4692 - accuracy: 0.9000 - val_loss: 0.5550 - val_accuracy: 0.8894\n",
            "Epoch 9/10\n",
            "989/989 [==============================] - 640s 647ms/step - loss: 0.4594 - accuracy: 0.9012 - val_loss: 0.5455 - val_accuracy: 0.8908\n",
            "Epoch 10/10\n",
            "989/989 [==============================] - 641s 648ms/step - loss: 0.4511 - accuracy: 0.9022 - val_loss: 0.5390 - val_accuracy: 0.8916\n"
          ]
        }
      ],
      "source": [
        "# Define hyperparameters\n",
        "embedding_dim = 100\n",
        "max_sequence_len = X.shape[1]  # Length of input sequences\n",
        "\n",
        "# Define the model architecture\n",
        "model = Sequential([\n",
        "    Embedding(total_words, embedding_dim, input_length=max_sequence_len),\n",
        "    LSTM(150, return_sequences=True),\n",
        "    Dense(total_words, activation='softmax') # This layer is causing the issue\n",
        "])\n",
        "\n",
        "# Compile the model\n",
        "model.compile(loss='sparse_categorical_crossentropy', optimizer='adam', metrics=['accuracy'])\n",
        "\n",
        "# Reduce the batch size\n",
        "batch_size = 32  # Reduced from 64\n",
        "epochs = 10\n",
        "\n",
        "# Train the model\n",
        "history = model.fit(X, y, batch_size=batch_size, epochs=epochs, validation_split=0.2)"
      ]
    },
    {
      "cell_type": "code",
      "source": [
        "# Assuming x_test and y_test are your test datasets\n",
        "loss, accuracy = model.evaluate(x_test, y_test)\n",
        "print(f\"Test Loss: {loss}\")\n",
        "print(f\"Test Accuracy: {accuracy}\")\n"
      ],
      "metadata": {
        "id": "nzWRtO42D4xw"
      },
      "execution_count": null,
      "outputs": []
    },
    {
      "cell_type": "code",
      "execution_count": null,
      "metadata": {
        "id": "OIXZlarAkE28"
      },
      "outputs": [],
      "source": [
        "model.save('/content/drive/MyDrive/trained_model.keras')\n"
      ]
    },
    {
      "cell_type": "code",
      "execution_count": null,
      "metadata": {
        "colab": {
          "background_save": true
        },
        "id": "Tf-9bVVUmo6u",
        "outputId": "9ff8fc6c-5465-4f4a-aba6-41301a0cb1d3"
      },
      "outputs": [
        {
          "ename": "OSError",
          "evalue": "No file or directory found at /content/drive/MyDrive/trained_model.keras",
          "output_type": "error",
          "traceback": [
            "\u001b[0;31m---------------------------------------------------------------------------\u001b[0m",
            "\u001b[0;31mOSError\u001b[0m                                   Traceback (most recent call last)",
            "\u001b[0;32m<ipython-input-2-b6559481e12d>\u001b[0m in \u001b[0;36m<cell line: 4>\u001b[0;34m()\u001b[0m\n\u001b[1;32m      2\u001b[0m \u001b[0;34m\u001b[0m\u001b[0m\n\u001b[1;32m      3\u001b[0m \u001b[0;31m# Load the saved model\u001b[0m\u001b[0;34m\u001b[0m\u001b[0;34m\u001b[0m\u001b[0m\n\u001b[0;32m----> 4\u001b[0;31m \u001b[0mloaded_model\u001b[0m \u001b[0;34m=\u001b[0m \u001b[0mload_model\u001b[0m\u001b[0;34m(\u001b[0m\u001b[0;34m'/content/drive/MyDrive/trained_model.keras'\u001b[0m\u001b[0;34m)\u001b[0m\u001b[0;34m\u001b[0m\u001b[0;34m\u001b[0m\u001b[0m\n\u001b[0m\u001b[1;32m      5\u001b[0m \u001b[0;34m\u001b[0m\u001b[0m\n\u001b[1;32m      6\u001b[0m \u001b[0;31m# Example of using the loaded model (for inference or further training)\u001b[0m\u001b[0;34m\u001b[0m\u001b[0;34m\u001b[0m\u001b[0m\n",
            "\u001b[0;32m/usr/local/lib/python3.10/dist-packages/keras/src/saving/saving_api.py\u001b[0m in \u001b[0;36mload_model\u001b[0;34m(filepath, custom_objects, compile, safe_mode, **kwargs)\u001b[0m\n\u001b[1;32m    260\u001b[0m \u001b[0;34m\u001b[0m\u001b[0m\n\u001b[1;32m    261\u001b[0m     \u001b[0;31m# Legacy case.\u001b[0m\u001b[0;34m\u001b[0m\u001b[0;34m\u001b[0m\u001b[0m\n\u001b[0;32m--> 262\u001b[0;31m     return legacy_sm_saving_lib.load_model(\n\u001b[0m\u001b[1;32m    263\u001b[0m         \u001b[0mfilepath\u001b[0m\u001b[0;34m,\u001b[0m \u001b[0mcustom_objects\u001b[0m\u001b[0;34m=\u001b[0m\u001b[0mcustom_objects\u001b[0m\u001b[0;34m,\u001b[0m \u001b[0mcompile\u001b[0m\u001b[0;34m=\u001b[0m\u001b[0mcompile\u001b[0m\u001b[0;34m,\u001b[0m \u001b[0;34m**\u001b[0m\u001b[0mkwargs\u001b[0m\u001b[0;34m\u001b[0m\u001b[0;34m\u001b[0m\u001b[0m\n\u001b[1;32m    264\u001b[0m     )\n",
            "\u001b[0;32m/usr/local/lib/python3.10/dist-packages/keras/src/utils/traceback_utils.py\u001b[0m in \u001b[0;36merror_handler\u001b[0;34m(*args, **kwargs)\u001b[0m\n\u001b[1;32m     68\u001b[0m             \u001b[0;31m# To get the full stack trace, call:\u001b[0m\u001b[0;34m\u001b[0m\u001b[0;34m\u001b[0m\u001b[0m\n\u001b[1;32m     69\u001b[0m             \u001b[0;31m# `tf.debugging.disable_traceback_filtering()`\u001b[0m\u001b[0;34m\u001b[0m\u001b[0;34m\u001b[0m\u001b[0m\n\u001b[0;32m---> 70\u001b[0;31m             \u001b[0;32mraise\u001b[0m \u001b[0me\u001b[0m\u001b[0;34m.\u001b[0m\u001b[0mwith_traceback\u001b[0m\u001b[0;34m(\u001b[0m\u001b[0mfiltered_tb\u001b[0m\u001b[0;34m)\u001b[0m \u001b[0;32mfrom\u001b[0m \u001b[0;32mNone\u001b[0m\u001b[0;34m\u001b[0m\u001b[0;34m\u001b[0m\u001b[0m\n\u001b[0m\u001b[1;32m     71\u001b[0m         \u001b[0;32mfinally\u001b[0m\u001b[0;34m:\u001b[0m\u001b[0;34m\u001b[0m\u001b[0;34m\u001b[0m\u001b[0m\n\u001b[1;32m     72\u001b[0m             \u001b[0;32mdel\u001b[0m \u001b[0mfiltered_tb\u001b[0m\u001b[0;34m\u001b[0m\u001b[0;34m\u001b[0m\u001b[0m\n",
            "\u001b[0;32m/usr/local/lib/python3.10/dist-packages/keras/src/saving/legacy/save.py\u001b[0m in \u001b[0;36mload_model\u001b[0;34m(filepath, custom_objects, compile, options)\u001b[0m\n\u001b[1;32m    232\u001b[0m                     \u001b[0;32mif\u001b[0m \u001b[0misinstance\u001b[0m\u001b[0;34m(\u001b[0m\u001b[0mfilepath_str\u001b[0m\u001b[0;34m,\u001b[0m \u001b[0mstr\u001b[0m\u001b[0;34m)\u001b[0m\u001b[0;34m:\u001b[0m\u001b[0;34m\u001b[0m\u001b[0;34m\u001b[0m\u001b[0m\n\u001b[1;32m    233\u001b[0m                         \u001b[0;32mif\u001b[0m \u001b[0;32mnot\u001b[0m \u001b[0mtf\u001b[0m\u001b[0;34m.\u001b[0m\u001b[0mio\u001b[0m\u001b[0;34m.\u001b[0m\u001b[0mgfile\u001b[0m\u001b[0;34m.\u001b[0m\u001b[0mexists\u001b[0m\u001b[0;34m(\u001b[0m\u001b[0mfilepath_str\u001b[0m\u001b[0;34m)\u001b[0m\u001b[0;34m:\u001b[0m\u001b[0;34m\u001b[0m\u001b[0;34m\u001b[0m\u001b[0m\n\u001b[0;32m--> 234\u001b[0;31m                             raise IOError(\n\u001b[0m\u001b[1;32m    235\u001b[0m                                 \u001b[0;34mf\"No file or directory found at {filepath_str}\"\u001b[0m\u001b[0;34m\u001b[0m\u001b[0;34m\u001b[0m\u001b[0m\n\u001b[1;32m    236\u001b[0m                             )\n",
            "\u001b[0;31mOSError\u001b[0m: No file or directory found at /content/drive/MyDrive/trained_model.keras"
          ]
        }
      ],
      "source": [
        "from tensorflow.keras.models import load_model\n",
        "\n",
        "# Load the saved model\n",
        "loaded_model = load_model('/content/drive/MyDrive/trained_model.keras')\n",
        "\n",
        "# Example of using the loaded model (for inference or further training)\n",
        "loaded_model.compile(optimizer='adam', loss='sparse_categorical_crossentropy', metrics=['accuracy'])\n",
        "\n"
      ]
    },
    {
      "cell_type": "code",
      "execution_count": null,
      "metadata": {
        "id": "Lj4chmVzk_do"
      },
      "outputs": [],
      "source": [
        "import pandas as pd\n",
        "\n",
        "def load_test_data(file_path):\n",
        "  \"\"\"\n",
        "  Loads test data from a CSV file and returns features and labels.\n",
        "\n",
        "  Args:\n",
        "    file_path: Path to the CSV file containing test data.\n",
        "\n",
        "  Returns:\n",
        "    A tuple containing (x_test, y_test), where x_test is the test features\n",
        "    and y_test is the corresponding labels.\n",
        "  \"\"\"\n",
        "  test_data = pd.read_csv(file_path)\n",
        "  # Assuming the last column contains labels and the rest are features\n",
        "  x_test = test_data.iloc[:, :-1].values\n",
        "  y_test = test_data.iloc[:, -1].values\n",
        "\n",
        "  # Convert string labels to numerical representations (if needed)\n",
        "  # Assuming y_test contains string labels, replace with appropriate encoding\n",
        "  from sklearn.preprocessing import LabelEncoder\n",
        "  label_encoder = LabelEncoder()\n",
        "  y_test = label_encoder.fit_transform(y_test)\n",
        "\n",
        "  return x_test, y_test\n",
        "\n",
        "# Load the test data\n",
        "x_test, y_test = load_test_data('/content/drive/MyDrive/test_data.csv')\n",
        "\n",
        "# Ensure x_test and y_test are appropriately prepared\n",
        "# ... (code to preprocess x_test if needed)\n",
        "\n"
      ]
    },
    {
      "cell_type": "code",
      "execution_count": null,
      "metadata": {
        "colab": {
          "base_uri": "https://localhost:8080/",
          "height": 1000
        },
        "id": "773EV-jpn2DR",
        "outputId": "4ba7a276-1bc1-410c-d30c-9d794de47206"
      },
      "outputs": [
        {
          "ename": "UnimplementedError",
          "evalue": "Graph execution error:\n\nDetected at node sequential_5/Cast defined at (most recent call last):\n  File \"/usr/lib/python3.10/runpy.py\", line 196, in _run_module_as_main\n\n  File \"/usr/lib/python3.10/runpy.py\", line 86, in _run_code\n\n  File \"/usr/local/lib/python3.10/dist-packages/colab_kernel_launcher.py\", line 37, in <module>\n\n  File \"/usr/local/lib/python3.10/dist-packages/traitlets/config/application.py\", line 992, in launch_instance\n\n  File \"/usr/local/lib/python3.10/dist-packages/ipykernel/kernelapp.py\", line 619, in start\n\n  File \"/usr/local/lib/python3.10/dist-packages/tornado/platform/asyncio.py\", line 195, in start\n\n  File \"/usr/lib/python3.10/asyncio/base_events.py\", line 603, in run_forever\n\n  File \"/usr/lib/python3.10/asyncio/base_events.py\", line 1909, in _run_once\n\n  File \"/usr/lib/python3.10/asyncio/events.py\", line 80, in _run\n\n  File \"/usr/local/lib/python3.10/dist-packages/tornado/ioloop.py\", line 685, in <lambda>\n\n  File \"/usr/local/lib/python3.10/dist-packages/tornado/ioloop.py\", line 738, in _run_callback\n\n  File \"/usr/local/lib/python3.10/dist-packages/tornado/gen.py\", line 825, in inner\n\n  File \"/usr/local/lib/python3.10/dist-packages/tornado/gen.py\", line 786, in run\n\n  File \"/usr/local/lib/python3.10/dist-packages/ipykernel/kernelbase.py\", line 361, in process_one\n\n  File \"/usr/local/lib/python3.10/dist-packages/tornado/gen.py\", line 234, in wrapper\n\n  File \"/usr/local/lib/python3.10/dist-packages/ipykernel/kernelbase.py\", line 261, in dispatch_shell\n\n  File \"/usr/local/lib/python3.10/dist-packages/tornado/gen.py\", line 234, in wrapper\n\n  File \"/usr/local/lib/python3.10/dist-packages/ipykernel/kernelbase.py\", line 539, in execute_request\n\n  File \"/usr/local/lib/python3.10/dist-packages/tornado/gen.py\", line 234, in wrapper\n\n  File \"/usr/local/lib/python3.10/dist-packages/ipykernel/ipkernel.py\", line 302, in do_execute\n\n  File \"/usr/local/lib/python3.10/dist-packages/ipykernel/zmqshell.py\", line 539, in run_cell\n\n  File \"/usr/local/lib/python3.10/dist-packages/IPython/core/interactiveshell.py\", line 2975, in run_cell\n\n  File \"/usr/local/lib/python3.10/dist-packages/IPython/core/interactiveshell.py\", line 3030, in _run_cell\n\n  File \"/usr/local/lib/python3.10/dist-packages/IPython/core/async_helpers.py\", line 78, in _pseudo_sync_runner\n\n  File \"/usr/local/lib/python3.10/dist-packages/IPython/core/interactiveshell.py\", line 3257, in run_cell_async\n\n  File \"/usr/local/lib/python3.10/dist-packages/IPython/core/interactiveshell.py\", line 3473, in run_ast_nodes\n\n  File \"/usr/local/lib/python3.10/dist-packages/IPython/core/interactiveshell.py\", line 3553, in run_code\n\n  File \"<ipython-input-70-3a5abe403053>\", line 43, in <cell line: 43>\n\n  File \"/usr/local/lib/python3.10/dist-packages/keras/src/utils/traceback_utils.py\", line 65, in error_handler\n\n  File \"/usr/local/lib/python3.10/dist-packages/keras/src/engine/training.py\", line 2655, in predict\n\n  File \"/usr/local/lib/python3.10/dist-packages/keras/src/engine/training.py\", line 2440, in predict_function\n\n  File \"/usr/local/lib/python3.10/dist-packages/keras/src/engine/training.py\", line 2425, in step_function\n\n  File \"/usr/local/lib/python3.10/dist-packages/keras/src/engine/training.py\", line 2413, in run_step\n\n  File \"/usr/local/lib/python3.10/dist-packages/keras/src/engine/training.py\", line 2381, in predict_step\n\n  File \"/usr/local/lib/python3.10/dist-packages/keras/src/utils/traceback_utils.py\", line 65, in error_handler\n\n  File \"/usr/local/lib/python3.10/dist-packages/keras/src/engine/training.py\", line 590, in __call__\n\n  File \"/usr/local/lib/python3.10/dist-packages/keras/src/utils/traceback_utils.py\", line 65, in error_handler\n\n  File \"/usr/local/lib/python3.10/dist-packages/keras/src/engine/base_layer.py\", line 1149, in __call__\n\n  File \"/usr/local/lib/python3.10/dist-packages/keras/src/utils/traceback_utils.py\", line 96, in error_handler\n\n  File \"/usr/local/lib/python3.10/dist-packages/keras/src/engine/sequential.py\", line 398, in call\n\n  File \"/usr/local/lib/python3.10/dist-packages/keras/src/engine/functional.py\", line 515, in call\n\n  File \"/usr/local/lib/python3.10/dist-packages/keras/src/engine/functional.py\", line 654, in _run_internal_graph\n\n  File \"/usr/local/lib/python3.10/dist-packages/keras/src/engine/functional.py\", line 751, in _conform_to_reference_input\n\n2 root error(s) found.\n  (0) UNIMPLEMENTED:  Cast string to float is not supported\n\t [[{{node sequential_5/Cast}}]]\n  (1) CANCELLED:  Function was cancelled before it was started\n0 successful operations.\n0 derived errors ignored. [Op:__inference_predict_function_71889]",
          "output_type": "error",
          "traceback": [
            "\u001b[0;31m---------------------------------------------------------------------------\u001b[0m",
            "\u001b[0;31mUnimplementedError\u001b[0m                        Traceback (most recent call last)",
            "\u001b[0;32m<ipython-input-70-3a5abe403053>\u001b[0m in \u001b[0;36m<cell line: 43>\u001b[0;34m()\u001b[0m\n\u001b[1;32m     41\u001b[0m \u001b[0;31m# Assign the test data to input_data\u001b[0m\u001b[0;34m\u001b[0m\u001b[0;34m\u001b[0m\u001b[0m\n\u001b[1;32m     42\u001b[0m \u001b[0minput_data\u001b[0m \u001b[0;34m=\u001b[0m \u001b[0mx_test\u001b[0m\u001b[0;34m\u001b[0m\u001b[0;34m\u001b[0m\u001b[0m\n\u001b[0;32m---> 43\u001b[0;31m \u001b[0mprediction\u001b[0m \u001b[0;34m=\u001b[0m \u001b[0mloaded_model\u001b[0m\u001b[0;34m.\u001b[0m\u001b[0mpredict\u001b[0m\u001b[0;34m(\u001b[0m\u001b[0minput_data\u001b[0m\u001b[0;34m)\u001b[0m\u001b[0;34m\u001b[0m\u001b[0;34m\u001b[0m\u001b[0m\n\u001b[0m\u001b[1;32m     44\u001b[0m \u001b[0mprint\u001b[0m\u001b[0;34m(\u001b[0m\u001b[0;34m\"Prediction:\"\u001b[0m\u001b[0;34m,\u001b[0m \u001b[0mprediction\u001b[0m\u001b[0;34m)\u001b[0m\u001b[0;34m\u001b[0m\u001b[0;34m\u001b[0m\u001b[0m\n",
            "\u001b[0;32m/usr/local/lib/python3.10/dist-packages/keras/src/utils/traceback_utils.py\u001b[0m in \u001b[0;36merror_handler\u001b[0;34m(*args, **kwargs)\u001b[0m\n\u001b[1;32m     68\u001b[0m             \u001b[0;31m# To get the full stack trace, call:\u001b[0m\u001b[0;34m\u001b[0m\u001b[0;34m\u001b[0m\u001b[0m\n\u001b[1;32m     69\u001b[0m             \u001b[0;31m# `tf.debugging.disable_traceback_filtering()`\u001b[0m\u001b[0;34m\u001b[0m\u001b[0;34m\u001b[0m\u001b[0m\n\u001b[0;32m---> 70\u001b[0;31m             \u001b[0;32mraise\u001b[0m \u001b[0me\u001b[0m\u001b[0;34m.\u001b[0m\u001b[0mwith_traceback\u001b[0m\u001b[0;34m(\u001b[0m\u001b[0mfiltered_tb\u001b[0m\u001b[0;34m)\u001b[0m \u001b[0;32mfrom\u001b[0m \u001b[0;32mNone\u001b[0m\u001b[0;34m\u001b[0m\u001b[0;34m\u001b[0m\u001b[0m\n\u001b[0m\u001b[1;32m     71\u001b[0m         \u001b[0;32mfinally\u001b[0m\u001b[0;34m:\u001b[0m\u001b[0;34m\u001b[0m\u001b[0;34m\u001b[0m\u001b[0m\n\u001b[1;32m     72\u001b[0m             \u001b[0;32mdel\u001b[0m \u001b[0mfiltered_tb\u001b[0m\u001b[0;34m\u001b[0m\u001b[0;34m\u001b[0m\u001b[0m\n",
            "\u001b[0;32m/usr/local/lib/python3.10/dist-packages/tensorflow/python/eager/execute.py\u001b[0m in \u001b[0;36mquick_execute\u001b[0;34m(op_name, num_outputs, inputs, attrs, ctx, name)\u001b[0m\n\u001b[1;32m     51\u001b[0m   \u001b[0;32mtry\u001b[0m\u001b[0;34m:\u001b[0m\u001b[0;34m\u001b[0m\u001b[0;34m\u001b[0m\u001b[0m\n\u001b[1;32m     52\u001b[0m     \u001b[0mctx\u001b[0m\u001b[0;34m.\u001b[0m\u001b[0mensure_initialized\u001b[0m\u001b[0;34m(\u001b[0m\u001b[0;34m)\u001b[0m\u001b[0;34m\u001b[0m\u001b[0;34m\u001b[0m\u001b[0m\n\u001b[0;32m---> 53\u001b[0;31m     tensors = pywrap_tfe.TFE_Py_Execute(ctx._handle, device_name, op_name,\n\u001b[0m\u001b[1;32m     54\u001b[0m                                         inputs, attrs, num_outputs)\n\u001b[1;32m     55\u001b[0m   \u001b[0;32mexcept\u001b[0m \u001b[0mcore\u001b[0m\u001b[0;34m.\u001b[0m\u001b[0m_NotOkStatusException\u001b[0m \u001b[0;32mas\u001b[0m \u001b[0me\u001b[0m\u001b[0;34m:\u001b[0m\u001b[0;34m\u001b[0m\u001b[0;34m\u001b[0m\u001b[0m\n",
            "\u001b[0;31mUnimplementedError\u001b[0m: Graph execution error:\n\nDetected at node sequential_5/Cast defined at (most recent call last):\n  File \"/usr/lib/python3.10/runpy.py\", line 196, in _run_module_as_main\n\n  File \"/usr/lib/python3.10/runpy.py\", line 86, in _run_code\n\n  File \"/usr/local/lib/python3.10/dist-packages/colab_kernel_launcher.py\", line 37, in <module>\n\n  File \"/usr/local/lib/python3.10/dist-packages/traitlets/config/application.py\", line 992, in launch_instance\n\n  File \"/usr/local/lib/python3.10/dist-packages/ipykernel/kernelapp.py\", line 619, in start\n\n  File \"/usr/local/lib/python3.10/dist-packages/tornado/platform/asyncio.py\", line 195, in start\n\n  File \"/usr/lib/python3.10/asyncio/base_events.py\", line 603, in run_forever\n\n  File \"/usr/lib/python3.10/asyncio/base_events.py\", line 1909, in _run_once\n\n  File \"/usr/lib/python3.10/asyncio/events.py\", line 80, in _run\n\n  File \"/usr/local/lib/python3.10/dist-packages/tornado/ioloop.py\", line 685, in <lambda>\n\n  File \"/usr/local/lib/python3.10/dist-packages/tornado/ioloop.py\", line 738, in _run_callback\n\n  File \"/usr/local/lib/python3.10/dist-packages/tornado/gen.py\", line 825, in inner\n\n  File \"/usr/local/lib/python3.10/dist-packages/tornado/gen.py\", line 786, in run\n\n  File \"/usr/local/lib/python3.10/dist-packages/ipykernel/kernelbase.py\", line 361, in process_one\n\n  File \"/usr/local/lib/python3.10/dist-packages/tornado/gen.py\", line 234, in wrapper\n\n  File \"/usr/local/lib/python3.10/dist-packages/ipykernel/kernelbase.py\", line 261, in dispatch_shell\n\n  File \"/usr/local/lib/python3.10/dist-packages/tornado/gen.py\", line 234, in wrapper\n\n  File \"/usr/local/lib/python3.10/dist-packages/ipykernel/kernelbase.py\", line 539, in execute_request\n\n  File \"/usr/local/lib/python3.10/dist-packages/tornado/gen.py\", line 234, in wrapper\n\n  File \"/usr/local/lib/python3.10/dist-packages/ipykernel/ipkernel.py\", line 302, in do_execute\n\n  File \"/usr/local/lib/python3.10/dist-packages/ipykernel/zmqshell.py\", line 539, in run_cell\n\n  File \"/usr/local/lib/python3.10/dist-packages/IPython/core/interactiveshell.py\", line 2975, in run_cell\n\n  File \"/usr/local/lib/python3.10/dist-packages/IPython/core/interactiveshell.py\", line 3030, in _run_cell\n\n  File \"/usr/local/lib/python3.10/dist-packages/IPython/core/async_helpers.py\", line 78, in _pseudo_sync_runner\n\n  File \"/usr/local/lib/python3.10/dist-packages/IPython/core/interactiveshell.py\", line 3257, in run_cell_async\n\n  File \"/usr/local/lib/python3.10/dist-packages/IPython/core/interactiveshell.py\", line 3473, in run_ast_nodes\n\n  File \"/usr/local/lib/python3.10/dist-packages/IPython/core/interactiveshell.py\", line 3553, in run_code\n\n  File \"<ipython-input-70-3a5abe403053>\", line 43, in <cell line: 43>\n\n  File \"/usr/local/lib/python3.10/dist-packages/keras/src/utils/traceback_utils.py\", line 65, in error_handler\n\n  File \"/usr/local/lib/python3.10/dist-packages/keras/src/engine/training.py\", line 2655, in predict\n\n  File \"/usr/local/lib/python3.10/dist-packages/keras/src/engine/training.py\", line 2440, in predict_function\n\n  File \"/usr/local/lib/python3.10/dist-packages/keras/src/engine/training.py\", line 2425, in step_function\n\n  File \"/usr/local/lib/python3.10/dist-packages/keras/src/engine/training.py\", line 2413, in run_step\n\n  File \"/usr/local/lib/python3.10/dist-packages/keras/src/engine/training.py\", line 2381, in predict_step\n\n  File \"/usr/local/lib/python3.10/dist-packages/keras/src/utils/traceback_utils.py\", line 65, in error_handler\n\n  File \"/usr/local/lib/python3.10/dist-packages/keras/src/engine/training.py\", line 590, in __call__\n\n  File \"/usr/local/lib/python3.10/dist-packages/keras/src/utils/traceback_utils.py\", line 65, in error_handler\n\n  File \"/usr/local/lib/python3.10/dist-packages/keras/src/engine/base_layer.py\", line 1149, in __call__\n\n  File \"/usr/local/lib/python3.10/dist-packages/keras/src/utils/traceback_utils.py\", line 96, in error_handler\n\n  File \"/usr/local/lib/python3.10/dist-packages/keras/src/engine/sequential.py\", line 398, in call\n\n  File \"/usr/local/lib/python3.10/dist-packages/keras/src/engine/functional.py\", line 515, in call\n\n  File \"/usr/local/lib/python3.10/dist-packages/keras/src/engine/functional.py\", line 654, in _run_internal_graph\n\n  File \"/usr/local/lib/python3.10/dist-packages/keras/src/engine/functional.py\", line 751, in _conform_to_reference_input\n\n2 root error(s) found.\n  (0) UNIMPLEMENTED:  Cast string to float is not supported\n\t [[{{node sequential_5/Cast}}]]\n  (1) CANCELLED:  Function was cancelled before it was started\n0 successful operations.\n0 derived errors ignored. [Op:__inference_predict_function_71889]"
          ]
        }
      ],
      "source": [
        "# Assuming new_ingredients is your new input data\n",
        "new_ingredients = [\"rice,chicken,garlic\"]\n",
        "new_sequences_ing = tokenizer_ing.texts_to_sequences(new_ingredients)\n",
        "new_padded_ing = pad_sequences(new_sequences_ing, maxlen=max_seq_length, padding='post')\n",
        "\n",
        "# Generate prediction\n",
        "predicted_instructions = loaded_model.predict(new_padded_ing)\n",
        "print(predicted_instructions)\n"
      ]
    }
  ],
  "metadata": {
    "accelerator": "GPU",
    "colab": {
      "gpuType": "T4",
      "provenance": [],
      "toc_visible": true,
      "authorship_tag": "ABX9TyPjpCCNQjvl6QfYUx45jfHm",
      "include_colab_link": true
    },
    "kernelspec": {
      "display_name": "Python 3",
      "name": "python3"
    },
    "language_info": {
      "name": "python"
    }
  },
  "nbformat": 4,
  "nbformat_minor": 0
}